{
 "cells": [
  {
   "cell_type": "markdown",
   "metadata": {},
   "source": [
    "# Gestión de entornos\n",
    "\n",
    "## Python y gestión de versiones\n",
    "\n",
    "Cuando empezamos el desarrollo de un proyecto, lo ideal es que este funcione bajo la última versión de Python y las librerías que necesitamos. Pero debemos tener mecanismos para utilizar otras versiones más antiguas, por varios motivos:\n",
    "\n",
    "* Imposición del entorno. En entornos corporativos se suele fijar la versión a utilizar por motivos de reutilización de arquitecturas o seguridad.\n",
    "* Evolución de proyectos antiguos.\n",
    "\n",
    "Una buena herramienta para hacerlo es [`pyenv`](https://github.com/pyenv/pyenv)\n",
    "\n",
    "### pyenv\n",
    "\n",
    "`pyenv` es un gestor de versiones de Python. Permite tener instaladas varias versiones y cambiar entre ellas fácilmente."
   ]
  },
  {
   "cell_type": "markdown",
   "metadata": {},
   "source": [
    "##### Ejercicio\n",
    "\n",
    "Instala pyenv y ejecútalo sin argumentos. Examina los comandos útiles que muestra y entiende qué es lo que hacen."
   ]
  },
  {
   "cell_type": "markdown",
   "metadata": {},
   "source": [
    "#### `pyenv install --list`\n",
    "\n",
    "Muestra todas las versiones disponibles de Python para instalar. Si te faltan las versiones más nuevas, tendrás que actualizar pyenv"
   ]
  },
  {
   "cell_type": "markdown",
   "metadata": {},
   "source": [
    "#### `pyenv install <version>`\n",
    "\n",
    "Instala una versión específica de python"
   ]
  },
  {
   "cell_type": "markdown",
   "metadata": {},
   "source": [
    "#### `pyenv versions`\n",
    "\n",
    "Consulta las versiones instaladas."
   ]
  },
  {
   "cell_type": "markdown",
   "metadata": {},
   "source": [
    "#### `pyenv global <version>`\n",
    "\n",
    "Setea una versión concreta de python como la global del sistema. Si compartes el equipo con otros desarrolladores y quieres instalarla solo en tu usuario, utiliza `user` en lugar de `global`.\n",
    "\n",
    "Para consultar qué versión tienes actualmente, puedes lanzar el comando sin el último parámetro. Es decir, `pyenv global`"
   ]
  },
  {
   "cell_type": "markdown",
   "metadata": {},
   "source": [
    "##### Ejercicio\n",
    "\n",
    "1. Instala las siguientes versiones de python:\n",
    "\n",
    "    * 3.5\n",
    "    * 3.7\n",
    "    * 3.8\n",
    "\n",
    "2. Comprueba que estén instaladas correctamente\n",
    "3. Activa cada una de ellas, consulta la versión y ejecuta comandos para comprobar que estás en esa versión\n",
    "\n",
    "Algunos comandos que solo funcionan en versiones específicas son:\n",
    "\n",
    "```\n",
    "# Solo funciona en 3.7 y 3.8\n",
    "nombre = \"Pepa\"\n",
    "f\"Hola {nombre}\"\n",
    "\n",
    "# Solo funciona en 3.8\n",
    "print(cadena := \"Hola Pepa\")\n",
    "```\n",
    "\n",
    "_Nota_: las versiones las especifico aquí solo hasta la _minor_. Elige la _patch_ más reciente dentro de cada una de ellas. Recuerda que las versiones son `_major_._minor_._patch_`.\n",
    "_Nota_: si te interesa consultar las últimas funcionalidades implementadas en python 3.8, puedes hacerlo [aquí](https://realpython.com/python38-new-features/)"
   ]
  },
  {
   "cell_type": "markdown",
   "metadata": {},
   "source": [
    "## Entornos virtuales y gestión de dependencias\n",
    "\n",
    "Tanto el lenguaje en sí, como las librerías son algo vivo, que evoluciona. Un proyecto puede funcionar correctamente bajo una versión de Python y de las librerías que utilice (p.e. `pandas`, `seaborn`) y fallar en otras versiones.\n",
    "\n",
    "Por este motivo, necesitamos una herramienta que fije estas versiones y asegure unicidad en el equipo de desarrollo y los diferentes entornos.\n",
    "\n",
    "Esto se puede gestionar mediante los entornos virtuales. Hasta ahora, los paquetes los instalábamos a nivel global, para nuestro usuario o todos los usuarios de la máquina. Con los entornos virtuales, podemos tener un conjunto de paquetes y sus versiones por cada proyecto.\n",
    "\n",
    "Para la gestión de paquetes, en entornos productivos se suele utilizar [`pip`](https://pypi.org/project/pip/).\n",
    "\n",
    "_Nota_: Anaconda trae su propio gestor de paquetes, [`conda`](https://pypi.org/project/conda/)"
   ]
  },
  {
   "cell_type": "markdown",
   "metadata": {},
   "source": [
    "### Opción 1: pipenv (recomendado)\n",
    "\n",
    "[`pipenv`](https://pipenv-fork.readthedocs.io/en/latest/) gestiona entornos virtuales y los sincroniza con lo instalado vía `pip`.\n",
    "\n",
    "#### Creación del entorno virtual\n",
    "\n",
    "La primera vez que lanzamos pipenv sobre una carpeta que no contiene un `Pipfile`, crea el entorno virtual vacío. Si existiera un `requirements.txt`, crea un entorno virtual respetando las dependencias listadas en el fichero. A partir de ese momento, podemos utilizar `pipenv` como si fuera `pip` para instalar dependencias.\n",
    "\n",
    "```\n",
    "cd my_project\n",
    "pipenv install\n",
    "```\n",
    "\n",
    "Esto crea dos ficheros nuevos que, idealmente, estarán ambos en el control de versiones del proyecto. `Pipfile` recoge los paquetes instalados, si son necesarios únicamente en desarrollo o producción y meta información relacionada. `Pipfile.lock` recoge las versiones concretas de las dependencias y subdependencias y asegura que la creación del entorno sea determinista."
   ]
  },
  {
   "cell_type": "markdown",
   "metadata": {},
   "source": [
    "##### Ejercicio\n",
    "\n",
    "Crea una carpeta nueva y ejecuta `pipenv install` dentro. Examina la salida y compréndela."
   ]
  },
  {
   "cell_type": "markdown",
   "metadata": {},
   "source": [
    "#### Ejecución dentro del entorno virtual\n",
    "\n",
    "Tenemos dos opciones para lanzar nuestros scripts de python dentro del entorno: `pipenv run` para un comando específico, o `pipenv shell` para activar una consola.\n",
    "\n",
    "Un ejemplo con `run`:\n",
    "\n",
    "```\n",
    "pipenv run python my_script.py\n",
    "```\n",
    "\n",
    "Y lo equivalente con `shell`:\n",
    "\n",
    "```\n",
    "pipenv shell\n",
    "python my_script.py\n",
    "exit\n",
    "```"
   ]
  },
  {
   "cell_type": "markdown",
   "metadata": {},
   "source": [
    "#### Instalación de nuevas dependencias\n",
    "\n",
    "Para instalar nuevas dependencias, utilizaremos `pipenv` como si fuera `pip`.\n",
    "\n",
    "Por ejemplo, para instalar `pandas`:\n",
    "\n",
    "```\n",
    "pipenv install pandas\n",
    "```\n",
    "\n",
    "También podemos especificar dependencias que solo son necesarias en desarrollo con el flag `--dev`. Por ejemplo, para formateadores, utilidades de testing o similares.\n",
    "\n",
    "```\n",
    "pipenv install pandas --dev\n",
    "```"
   ]
  },
  {
   "cell_type": "markdown",
   "metadata": {},
   "source": [
    "##### Ejercicio\n",
    "\n",
    "Crea dos carpetas nuevas, cada una con su propio entorno virtual. En una de ellas instala unos paquetes y en la otra, otros. Comprueba que desde el otro entorno virtual no están disponibles."
   ]
  },
  {
   "cell_type": "markdown",
   "metadata": {},
   "source": [
    "### Opción 2: requirements.txt\n",
    "\n",
    "Esta opción es algo antigua, la describimos aquí por si te toca dar soporte a un proyecto que se gestionaba de esta forma y no admite actualización a `pipenv`.\n",
    "\n",
    "#### Creación del entorno virtual\n",
    "\n",
    "Solo hace falta hacerlo una vez, normalmente cuando creamos o clonamos el proyecto:\n",
    "\n",
    "```\n",
    "python3 -m venv env\n",
    "```\n",
    "\n",
    "Nos crea una carpeta `env/` en nuestro proyecto donde se guardarán todas las librerías. Si estamos en un repositorio de `git`, hay que incluir esta carpeta en el `.gitignore`.\n",
    "\n",
    "#### Activar y desactivar el entorno virtual\n",
    "\n",
    "Cuando nos pongamos a desarrollar, tendremos que activarlo. Esto implica una alteración de las rutas a `python` y las librerías del proyecto. Tendremos disponible lo instalado en `env/` en lugar de lo instalado de forma global.\n",
    "\n",
    "```\n",
    "source env/bin/activate\n",
    "```\n",
    "\n",
    "Para volver al entorno global del ordenador, desactivamos el entorno virtual:\n",
    "\n",
    "```\n",
    "deactivate\n",
    "```\n",
    "\n",
    "#### Instalación y actualización de dependencias\n",
    "\n",
    "_Nota_: estos pasos hay que hacerlos siempre con el entorno virtual activo.\n",
    "\n",
    "Para instalar las dependencias necesarias (p.e. tras clonar el proyecto por primera vez, o tras traernos código nuevo que incorpora nuevas dependencias, ...):\n",
    "\n",
    "```\n",
    "pip install -r requirements.txt\n",
    "```\n",
    "\n",
    "Y cada vez que instalamos o actualizamos una dependencia en nuestro proyecto (con `pip install ...`), debemos actualizar el listado de dependencias, guardado en `requirements.txt`. Para hacerlo:\n",
    "\n",
    "```\n",
    "pip freeze > requirements.txt\n",
    "```\n",
    "\n",
    "El fichero de `requirements.txt` tiene esta pinta:\n",
    "\n",
    "```\n",
    "nltk==3.4\n",
    "numpy==1.16.0\n",
    "pandas==0.24.0\n",
    "scikit-learn==0.20.2\n",
    "scipy==1.2.0\n",
    "```\n",
    "\n",
    "Puedes ver más sobre el formato que puede tener este fichero [aquí](https://pip.pypa.io/en/stable/user_guide/#requirements-files)."
   ]
  },
  {
   "cell_type": "code",
   "execution_count": null,
   "metadata": {},
   "outputs": [],
   "source": []
  }
 ],
 "metadata": {
  "kernelspec": {
   "display_name": "libropython",
   "language": "python",
   "name": "libropython"
  },
  "language_info": {
   "codemirror_mode": {
    "name": "ipython",
    "version": 3
   },
   "file_extension": ".py",
   "mimetype": "text/x-python",
   "name": "python",
   "nbconvert_exporter": "python",
   "pygments_lexer": "ipython3",
   "version": "3.7.3"
  }
 },
 "nbformat": 4,
 "nbformat_minor": 2
}
